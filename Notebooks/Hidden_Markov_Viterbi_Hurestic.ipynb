{
  "nbformat": 4,
  "nbformat_minor": 0,
  "metadata": {
    "colab": {
      "provenance": []
    },
    "kernelspec": {
      "name": "python3",
      "display_name": "Python 3"
    },
    "language_info": {
      "name": "python"
    }
  },
  "cells": [
    {
      "cell_type": "code",
      "source": [
        "!pip install pomegranate"
      ],
      "metadata": {
        "colab": {
          "base_uri": "https://localhost:8080/"
        },
        "id": "HW_Jsl3TIMzy",
        "outputId": "ad15eab9-3d1b-4510-d6fb-443a0ddf7ad2"
      },
      "execution_count": null,
      "outputs": [
        {
          "output_type": "stream",
          "name": "stdout",
          "text": [
            "Requirement already satisfied: pomegranate in /usr/local/lib/python3.7/dist-packages (0.14.8)\n",
            "Requirement already satisfied: numpy>=1.20.0 in /usr/local/lib/python3.7/dist-packages (from pomegranate) (1.21.5)\n",
            "Requirement already satisfied: joblib>=0.9.0b4 in /usr/local/lib/python3.7/dist-packages (from pomegranate) (1.1.0)\n",
            "Requirement already satisfied: scipy>=0.17.0 in /usr/local/lib/python3.7/dist-packages (from pomegranate) (1.4.1)\n",
            "Requirement already satisfied: networkx>=2.4 in /usr/local/lib/python3.7/dist-packages (from pomegranate) (2.6.3)\n",
            "Requirement already satisfied: pyyaml in /usr/local/lib/python3.7/dist-packages (from pomegranate) (3.13)\n"
          ]
        }
      ]
    },
    {
      "cell_type": "code",
      "execution_count": null,
      "metadata": {
        "id": "J-K7XmW_BwEm"
      },
      "outputs": [],
      "source": [
        "import nltk\n",
        "import re\n",
        "import matplotlib.pyplot as plt\n",
        "import pomegranate as pm"
      ]
    },
    {
      "cell_type": "code",
      "source": [
        "nltk.download('averaged_perceptron_tagger')"
      ],
      "metadata": {
        "colab": {
          "base_uri": "https://localhost:8080/"
        },
        "id": "NegUS88SKLml",
        "outputId": "a92e7657-1911-451e-f5e8-a62c3771a184"
      },
      "execution_count": null,
      "outputs": [
        {
          "output_type": "stream",
          "name": "stdout",
          "text": [
            "[nltk_data] Downloading package averaged_perceptron_tagger to\n",
            "[nltk_data]     /root/nltk_data...\n",
            "[nltk_data]   Package averaged_perceptron_tagger is already up-to-\n",
            "[nltk_data]       date!\n"
          ]
        },
        {
          "output_type": "execute_result",
          "data": {
            "text/plain": [
              "True"
            ]
          },
          "metadata": {},
          "execution_count": 45
        }
      ]
    },
    {
      "cell_type": "code",
      "source": [
        "def preprocess(x):\n",
        "  x = x.lower()\n",
        "  x = re.sub(r'[^a-zA-Z0-9]',\" \",x)\n",
        "  x = x.split()\n",
        "  return x"
      ],
      "metadata": {
        "id": "byf0BVO6JmwS"
      },
      "execution_count": null,
      "outputs": []
    },
    {
      "cell_type": "code",
      "source": [
        "model = pm.HiddenMarkovModel()"
      ],
      "metadata": {
        "id": "IsbtoPPqK9U7"
      },
      "execution_count": null,
      "outputs": []
    },
    {
      "cell_type": "code",
      "source": [
        "### Emission Probablities\n",
        "\n",
        "### Determiner\n",
        "DT = pm.DiscreteDistribution({ 'the' : 0.2,\n",
        "                               'fans': 0,\n",
        "                               'watch':0,\n",
        "                               'race':0\n",
        "                                })\n",
        "state_DT = pm.State(DT,name='DT')\n",
        "### Noun\n",
        "NN = pm.DiscreteDistribution({ 'the' : 0,\n",
        "                               'fans': 0.1,\n",
        "                               'watch': 0.3,\n",
        "                               'race': 0.1\n",
        "                                })\n",
        "state_NN = pm.State(NN,name='NN')\n",
        "### Verb\n",
        "VB = pm.DiscreteDistribution({ 'the' :  0,\n",
        "                               'fans': 0.2,\n",
        "                               'watch': 0.15,\n",
        "                               'race': 0.3\n",
        "                                })\n",
        "state_VB = pm.State(VB,name='VB')\n",
        "\n"
      ],
      "metadata": {
        "id": "zTzT8IXOO-ML"
      },
      "execution_count": null,
      "outputs": []
    },
    {
      "cell_type": "code",
      "source": [
        "###Transition Probablites\n",
        "\n",
        "###Start\n",
        "model.add_transition(model.start,state_DT, 0.8)\n",
        "model.add_transition(model.start,state_NN, 0.2)\n",
        "model.add_transition(model.start,state_VB,0)\n",
        "\n",
        "### DT\n",
        "model.add_transition(state_DT,state_DT,0)\n",
        "model.add_transition(state_DT,state_NN,0.9)\n",
        "model.add_transition(state_DT,state_VB,0.1)\n",
        "\n",
        "### NN\n",
        "model.add_transition(state_NN,state_DT,0)\n",
        "model.add_transition(state_NN,state_NN,0.5)\n",
        "model.add_transition(state_NN,state_VB,0.5)\n",
        "\n",
        "### VB\n",
        "model.add_transition(state_VB,state_DT,0.5)\n",
        "model.add_transition(state_VB,state_NN,0.5)\n",
        "model.add_transition(state_VB,state_VB,0)\n"
      ],
      "metadata": {
        "id": "DtmWUEsURsYw"
      },
      "execution_count": null,
      "outputs": []
    },
    {
      "cell_type": "code",
      "source": [
        "model.bake()"
      ],
      "metadata": {
        "id": "GYW8PV8EUkEu"
      },
      "execution_count": null,
      "outputs": []
    },
    {
      "cell_type": "code",
      "source": [
        "model.states[-1].name = 'Start'"
      ],
      "metadata": {
        "id": "FCKSuHcYVtc5"
      },
      "execution_count": null,
      "outputs": []
    },
    {
      "cell_type": "code",
      "source": [
        "model.states"
      ],
      "metadata": {
        "colab": {
          "base_uri": "https://localhost:8080/"
        },
        "id": "LQOk8Aw6WhRS",
        "outputId": "d00e10d0-7026-4cf1-e719-7d7be9f51b69"
      },
      "execution_count": null,
      "outputs": [
        {
          "output_type": "execute_result",
          "data": {
            "text/plain": [
              "[{\n",
              "     \"class\" : \"State\",\n",
              "     \"distribution\" : {\n",
              "         \"class\" : \"Distribution\",\n",
              "         \"dtype\" : \"str\",\n",
              "         \"name\" : \"DiscreteDistribution\",\n",
              "         \"parameters\" : [\n",
              "             {\n",
              "                 \"the\" : 0.2,\n",
              "                 \"fans\" : 0,\n",
              "                 \"watch\" : 0,\n",
              "                 \"race\" : 0\n",
              "             }\n",
              "         ],\n",
              "         \"frozen\" : false\n",
              "     },\n",
              "     \"name\" : \"DT\",\n",
              "     \"weight\" : 1.0\n",
              " }, {\n",
              "     \"class\" : \"State\",\n",
              "     \"distribution\" : {\n",
              "         \"class\" : \"Distribution\",\n",
              "         \"dtype\" : \"str\",\n",
              "         \"name\" : \"DiscreteDistribution\",\n",
              "         \"parameters\" : [\n",
              "             {\n",
              "                 \"the\" : 0,\n",
              "                 \"fans\" : 0.1,\n",
              "                 \"watch\" : 0.3,\n",
              "                 \"race\" : 0.1\n",
              "             }\n",
              "         ],\n",
              "         \"frozen\" : false\n",
              "     },\n",
              "     \"name\" : \"NN\",\n",
              "     \"weight\" : 1.0\n",
              " }, {\n",
              "     \"class\" : \"State\",\n",
              "     \"distribution\" : {\n",
              "         \"class\" : \"Distribution\",\n",
              "         \"dtype\" : \"str\",\n",
              "         \"name\" : \"DiscreteDistribution\",\n",
              "         \"parameters\" : [\n",
              "             {\n",
              "                 \"the\" : 0,\n",
              "                 \"fans\" : 0.2,\n",
              "                 \"watch\" : 0.15,\n",
              "                 \"race\" : 0.3\n",
              "             }\n",
              "         ],\n",
              "         \"frozen\" : false\n",
              "     },\n",
              "     \"name\" : \"VB\",\n",
              "     \"weight\" : 1.0\n",
              " }, {\n",
              "     \"class\" : \"State\",\n",
              "     \"distribution\" : null,\n",
              "     \"name\" : \"None-start\",\n",
              "     \"weight\" : 1.0\n",
              " }, {\n",
              "     \"class\" : \"State\",\n",
              "     \"distribution\" : null,\n",
              "     \"name\" : \"Start\",\n",
              "     \"weight\" : 1.0\n",
              " }]"
            ]
          },
          "metadata": {},
          "execution_count": 52
        }
      ]
    },
    {
      "cell_type": "code",
      "source": [
        "text = 'The fans watch the race'\n",
        "y = preprocess(text)\n",
        "print(y)"
      ],
      "metadata": {
        "colab": {
          "base_uri": "https://localhost:8080/"
        },
        "id": "XbW6C1hHW6_z",
        "outputId": "aa8a6bea-6363-49be-bf1b-084accf9ba73"
      },
      "execution_count": null,
      "outputs": [
        {
          "output_type": "stream",
          "name": "stdout",
          "text": [
            "['the', 'fans', 'watch', 'the', 'race']\n"
          ]
        }
      ]
    },
    {
      "cell_type": "code",
      "source": [
        "viterbi_likelihood, viterbi_path= model.viterbi(y)"
      ],
      "metadata": {
        "id": "fCnN6j9oXKEn"
      },
      "execution_count": null,
      "outputs": []
    },
    {
      "cell_type": "code",
      "source": [
        "viterbi_path = [ i[1].name for i  in viterbi_path]\n",
        "print('The fans watch the race: \\n',viterbi_path)"
      ],
      "metadata": {
        "colab": {
          "base_uri": "https://localhost:8080/"
        },
        "id": "aJFh2-4UX3ef",
        "outputId": "4d538ff4-0efe-493a-c133-5bcf391d595f"
      },
      "execution_count": null,
      "outputs": [
        {
          "output_type": "stream",
          "name": "stdout",
          "text": [
            "The fans watch the race: \n",
            " ['None-start', 'DT', 'NN', 'VB', 'DT', 'NN']\n"
          ]
        }
      ]
    },
    {
      "cell_type": "code",
      "source": [
        "print('Likelihood \\n',viterbi_likelihood)"
      ],
      "metadata": {
        "colab": {
          "base_uri": "https://localhost:8080/"
        },
        "id": "Jt9aVBz6aycu",
        "outputId": "a1d85c56-fe1b-426b-8a28-df3f50cac63d"
      },
      "execution_count": null,
      "outputs": [
        {
          "output_type": "stream",
          "name": "stdout",
          "text": [
            "Likelihood \n",
            " -11.541324939491926\n"
          ]
        }
      ]
    }
  ]
}