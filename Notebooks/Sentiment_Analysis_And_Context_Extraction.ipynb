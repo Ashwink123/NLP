{
  "nbformat": 4,
  "nbformat_minor": 0,
  "metadata": {
    "colab": {
      "provenance": []
    },
    "kernelspec": {
      "name": "python3",
      "display_name": "Python 3"
    },
    "language_info": {
      "name": "python"
    }
  },
  "cells": [
    {
      "cell_type": "code",
      "execution_count": null,
      "metadata": {
        "id": "L65E5PmDNwcH"
      },
      "outputs": [],
      "source": [
        "import nltk\n",
        "from nltk.corpus import stopwords\n",
        "from nltk.stem import PorterStemmer\n",
        "from nltk.tokenize import WhitespaceTokenizer\n",
        "import re\n",
        "from nltk.probability import FreqDist"
      ]
    },
    {
      "cell_type": "code",
      "source": [
        "nltk.download('punkt')\n",
        "nltk.download('stopwords')"
      ],
      "metadata": {
        "colab": {
          "base_uri": "https://localhost:8080/"
        },
        "id": "QgXy09kaOiPn",
        "outputId": "78ee4bf5-99a5-48f7-b02c-40b823cfdff6"
      },
      "execution_count": null,
      "outputs": [
        {
          "output_type": "stream",
          "name": "stdout",
          "text": [
            "[nltk_data] Downloading package punkt to /root/nltk_data...\n",
            "[nltk_data]   Package punkt is already up-to-date!\n",
            "[nltk_data] Downloading package stopwords to /root/nltk_data...\n",
            "[nltk_data]   Unzipping corpora/stopwords.zip.\n"
          ]
        },
        {
          "output_type": "execute_result",
          "data": {
            "text/plain": [
              "True"
            ]
          },
          "metadata": {},
          "execution_count": 12
        }
      ]
    },
    {
      "cell_type": "code",
      "source": [
        "para = \"\"\" Major Dhyan Chand (29 August 1905 – 3 December 1979) was an Indian field hockey player widely regarded as one of the greatest field hockey player in history.\n",
        "[4][5][6] He was known for his extraordinary ball control and goal-scoring feats, in addition to earning three Olympic gold medals, in 1928, 1932 and 1936, during an era where India dominated field hockey.\n",
        "His influence extended beyond these victories, as India won the field hockey event in seven out of eight Olympics from 1928 to 1964.\n",
        "Known as The Wizard[8][9] or The Magician[10][11] of hockey for his superb ball control, Chand played internationally from 1926 to 1949 where he scored 570 goals in 185 matches according to his autobiography, Goal[12][13] and over 1000 goals in his entire domestic and international career.\n",
        "[14] BBC called him the \"hockey's equivalent of Muhammad Ali\".[14] The Government of India awarded Chand India's third highest civilian honour of Padma Bhushan in 1956.\n",
        "[15] His birthday, 29 August, is celebrated as National Sports Day in India every year. India's highest sporting honour Major Dhyan Chand Khel Ratna Award is named after him\"\"\""
      ],
      "metadata": {
        "id": "hv-fn716OnrM"
      },
      "execution_count": null,
      "outputs": []
    },
    {
      "cell_type": "code",
      "source": [
        "stem = PorterStemmer()\n",
        "tokenizer = WhitespaceTokenizer()"
      ],
      "metadata": {
        "id": "wFO7zGFVPV_x"
      },
      "execution_count": null,
      "outputs": []
    },
    {
      "cell_type": "code",
      "source": [
        "def preprocess(x):\n",
        "  x = x.lower()\n",
        "  x = re.sub('^[a-z0-9]','',x)\n",
        "  x = re.sub('\\[\\d+\\]','',x)\n",
        "  x = re.sub('chand','',x)\n",
        "  x = re.sub('dhyan','',x)\n",
        "  x = re.sub('major','',x)\n",
        "  x = tokenizer.tokenize(x)\n",
        "  x = [word for word in x if not word in stopwords.words()]\n",
        "  return x"
      ],
      "metadata": {
        "id": "BqagiiVaO_sr"
      },
      "execution_count": null,
      "outputs": []
    },
    {
      "cell_type": "code",
      "source": [
        "words = preprocess(para)"
      ],
      "metadata": {
        "id": "4rZLssQ8St5d"
      },
      "execution_count": null,
      "outputs": []
    },
    {
      "cell_type": "code",
      "source": [
        "words"
      ],
      "metadata": {
        "colab": {
          "base_uri": "https://localhost:8080/"
        },
        "id": "jz_9b_p5WtT2",
        "outputId": "c1a5514a-18b1-4ea6-8469-c5496c7de9be"
      },
      "execution_count": null,
      "outputs": [
        {
          "output_type": "execute_result",
          "data": {
            "text/plain": [
              "['(29',\n",
              " 'august',\n",
              " '1905',\n",
              " '–',\n",
              " '3',\n",
              " 'december',\n",
              " '1979)',\n",
              " 'indian',\n",
              " 'field',\n",
              " 'hockey',\n",
              " 'player',\n",
              " 'widely',\n",
              " 'regarded',\n",
              " 'greatest',\n",
              " 'field',\n",
              " 'hockey',\n",
              " 'player',\n",
              " 'history.',\n",
              " 'known',\n",
              " 'extraordinary',\n",
              " 'ball',\n",
              " 'control',\n",
              " 'goal-scoring',\n",
              " 'feats,',\n",
              " 'addition',\n",
              " 'earning',\n",
              " 'three',\n",
              " 'olympic',\n",
              " 'gold',\n",
              " 'medals,',\n",
              " '1928,',\n",
              " '1932',\n",
              " '1936,',\n",
              " 'india',\n",
              " 'dominated',\n",
              " 'field',\n",
              " 'hockey.',\n",
              " 'influence',\n",
              " 'extended',\n",
              " 'beyond',\n",
              " 'victories,',\n",
              " 'india',\n",
              " 'field',\n",
              " 'hockey',\n",
              " 'event',\n",
              " 'seven',\n",
              " 'eight',\n",
              " 'olympics',\n",
              " '1928',\n",
              " '1964.',\n",
              " 'known',\n",
              " 'wizard',\n",
              " 'magician',\n",
              " 'hockey',\n",
              " 'superb',\n",
              " 'ball',\n",
              " 'control,',\n",
              " 'played',\n",
              " 'internationally',\n",
              " '1926',\n",
              " '1949',\n",
              " 'scored',\n",
              " '570',\n",
              " 'goals',\n",
              " '185',\n",
              " 'matches',\n",
              " 'according',\n",
              " 'autobiography,',\n",
              " 'goal',\n",
              " '1000',\n",
              " 'goals',\n",
              " 'entire',\n",
              " 'domestic',\n",
              " 'international',\n",
              " 'career.',\n",
              " 'bbc',\n",
              " 'called',\n",
              " '\"hockey\\'s',\n",
              " 'equivalent',\n",
              " 'muhammad',\n",
              " 'ali\".',\n",
              " 'government',\n",
              " 'india',\n",
              " 'awarded',\n",
              " \"india's\",\n",
              " 'third',\n",
              " 'highest',\n",
              " 'civilian',\n",
              " 'honour',\n",
              " 'padma',\n",
              " 'bhushan',\n",
              " '1956.',\n",
              " 'birthday,',\n",
              " '29',\n",
              " 'august,',\n",
              " 'celebrated',\n",
              " 'national',\n",
              " 'sports',\n",
              " 'day',\n",
              " 'india',\n",
              " 'every',\n",
              " 'year.',\n",
              " \"india's\",\n",
              " 'highest',\n",
              " 'sporting',\n",
              " 'honour',\n",
              " 'khel',\n",
              " 'ratna',\n",
              " 'award',\n",
              " 'named']"
            ]
          },
          "metadata": {},
          "execution_count": 33
        }
      ]
    },
    {
      "cell_type": "code",
      "source": [
        "fdist = FreqDist(words)\n",
        "fdist.most_common(10)"
      ],
      "metadata": {
        "colab": {
          "base_uri": "https://localhost:8080/"
        },
        "id": "dTxdsSZRSngn",
        "outputId": "3826c492-d048-49ea-ccd2-25cec27a8e9e"
      },
      "execution_count": null,
      "outputs": [
        {
          "output_type": "execute_result",
          "data": {
            "text/plain": [
              "[('field', 4),\n",
              " ('hockey', 4),\n",
              " ('india', 4),\n",
              " ('player', 2),\n",
              " ('known', 2),\n",
              " ('ball', 2),\n",
              " ('goals', 2),\n",
              " (\"india's\", 2),\n",
              " ('highest', 2),\n",
              " ('honour', 2)]"
            ]
          },
          "metadata": {},
          "execution_count": 34
        }
      ]
    },
    {
      "cell_type": "code",
      "source": [
        "n_gram_tokens = tokenizer.tokenize(para)\n",
        "n_gram_tokens"
      ],
      "metadata": {
        "colab": {
          "base_uri": "https://localhost:8080/"
        },
        "id": "cYmGAOENUHBt",
        "outputId": "c08df87d-3a9a-4e4f-e3d5-1a50ba279c99"
      },
      "execution_count": null,
      "outputs": [
        {
          "output_type": "execute_result",
          "data": {
            "text/plain": [
              "['Major',\n",
              " 'Dhyan',\n",
              " 'Chand',\n",
              " '(29',\n",
              " 'August',\n",
              " '1905',\n",
              " '–',\n",
              " '3',\n",
              " 'December',\n",
              " '1979)',\n",
              " 'was',\n",
              " 'an',\n",
              " 'Indian',\n",
              " 'field',\n",
              " 'hockey',\n",
              " 'player',\n",
              " 'widely',\n",
              " 'regarded',\n",
              " 'as',\n",
              " 'one',\n",
              " 'of',\n",
              " 'the',\n",
              " 'greatest',\n",
              " 'field',\n",
              " 'hockey',\n",
              " 'player',\n",
              " 'in',\n",
              " 'history.',\n",
              " '[4][5][6]',\n",
              " 'He',\n",
              " 'was',\n",
              " 'known',\n",
              " 'for',\n",
              " 'his',\n",
              " 'extraordinary',\n",
              " 'ball',\n",
              " 'control',\n",
              " 'and',\n",
              " 'goal-scoring',\n",
              " 'feats,',\n",
              " 'in',\n",
              " 'addition',\n",
              " 'to',\n",
              " 'earning',\n",
              " 'three',\n",
              " 'Olympic',\n",
              " 'gold',\n",
              " 'medals,',\n",
              " 'in',\n",
              " '1928,',\n",
              " '1932',\n",
              " 'and',\n",
              " '1936,',\n",
              " 'during',\n",
              " 'an',\n",
              " 'era',\n",
              " 'where',\n",
              " 'India',\n",
              " 'dominated',\n",
              " 'field',\n",
              " 'hockey.',\n",
              " 'His',\n",
              " 'influence',\n",
              " 'extended',\n",
              " 'beyond',\n",
              " 'these',\n",
              " 'victories,',\n",
              " 'as',\n",
              " 'India',\n",
              " 'won',\n",
              " 'the',\n",
              " 'field',\n",
              " 'hockey',\n",
              " 'event',\n",
              " 'in',\n",
              " 'seven',\n",
              " 'out',\n",
              " 'of',\n",
              " 'eight',\n",
              " 'Olympics',\n",
              " 'from',\n",
              " '1928',\n",
              " 'to',\n",
              " '1964.',\n",
              " 'Known',\n",
              " 'as',\n",
              " 'The',\n",
              " 'Wizard[8][9]',\n",
              " 'or',\n",
              " 'The',\n",
              " 'Magician[10][11]',\n",
              " 'of',\n",
              " 'hockey',\n",
              " 'for',\n",
              " 'his',\n",
              " 'superb',\n",
              " 'ball',\n",
              " 'control,',\n",
              " 'Chand',\n",
              " 'played',\n",
              " 'internationally',\n",
              " 'from',\n",
              " '1926',\n",
              " 'to',\n",
              " '1949',\n",
              " 'where',\n",
              " 'he',\n",
              " 'scored',\n",
              " '570',\n",
              " 'goals',\n",
              " 'in',\n",
              " '185',\n",
              " 'matches',\n",
              " 'according',\n",
              " 'to',\n",
              " 'his',\n",
              " 'autobiography,',\n",
              " 'Goal[12][13]',\n",
              " 'and',\n",
              " 'over',\n",
              " '1000',\n",
              " 'goals',\n",
              " 'in',\n",
              " 'his',\n",
              " 'entire',\n",
              " 'domestic',\n",
              " 'and',\n",
              " 'international',\n",
              " 'career.',\n",
              " '[14]',\n",
              " 'BBC',\n",
              " 'called',\n",
              " 'him',\n",
              " 'the',\n",
              " '\"hockey\\'s',\n",
              " 'equivalent',\n",
              " 'of',\n",
              " 'Muhammad',\n",
              " 'Ali\".[14]',\n",
              " 'The',\n",
              " 'Government',\n",
              " 'of',\n",
              " 'India',\n",
              " 'awarded',\n",
              " 'Chand',\n",
              " \"India's\",\n",
              " 'third',\n",
              " 'highest',\n",
              " 'civilian',\n",
              " 'honour',\n",
              " 'of',\n",
              " 'Padma',\n",
              " 'Bhushan',\n",
              " 'in',\n",
              " '1956.',\n",
              " '[15]',\n",
              " 'His',\n",
              " 'birthday,',\n",
              " '29',\n",
              " 'August,',\n",
              " 'is',\n",
              " 'celebrated',\n",
              " 'as',\n",
              " 'National',\n",
              " 'Sports',\n",
              " 'Day',\n",
              " 'in',\n",
              " 'India',\n",
              " 'every',\n",
              " 'year.',\n",
              " \"India's\",\n",
              " 'highest',\n",
              " 'sporting',\n",
              " 'honour',\n",
              " 'Major',\n",
              " 'Dhyan',\n",
              " 'Chand',\n",
              " 'Khel',\n",
              " 'Ratna',\n",
              " 'Award',\n",
              " 'is',\n",
              " 'named',\n",
              " 'after',\n",
              " 'him']"
            ]
          },
          "metadata": {},
          "execution_count": 35
        }
      ]
    },
    {
      "cell_type": "code",
      "source": [
        "def trigram(tokens):\n",
        "  for i in range(len(tokens) -3 +1):\n",
        "    grams = tokens[i : i+3]\n",
        "    print(grams)"
      ],
      "metadata": {
        "id": "G9HoksE9RX8c"
      },
      "execution_count": null,
      "outputs": []
    },
    {
      "cell_type": "code",
      "source": [
        "n_gram = trigram(n_gram_tokens)\n",
        "n_gram"
      ],
      "metadata": {
        "colab": {
          "base_uri": "https://localhost:8080/"
        },
        "id": "QOwoxUMlU0l7",
        "outputId": "b95898f2-a744-4bb3-d6d3-d2d199bda8a6"
      },
      "execution_count": null,
      "outputs": [
        {
          "output_type": "stream",
          "name": "stdout",
          "text": [
            "['Major', 'Dhyan', 'Chand']\n",
            "['Dhyan', 'Chand', '(29']\n",
            "['Chand', '(29', 'August']\n",
            "['(29', 'August', '1905']\n",
            "['August', '1905', '–']\n",
            "['1905', '–', '3']\n",
            "['–', '3', 'December']\n",
            "['3', 'December', '1979)']\n",
            "['December', '1979)', 'was']\n",
            "['1979)', 'was', 'an']\n",
            "['was', 'an', 'Indian']\n",
            "['an', 'Indian', 'field']\n",
            "['Indian', 'field', 'hockey']\n",
            "['field', 'hockey', 'player']\n",
            "['hockey', 'player', 'widely']\n",
            "['player', 'widely', 'regarded']\n",
            "['widely', 'regarded', 'as']\n",
            "['regarded', 'as', 'one']\n",
            "['as', 'one', 'of']\n",
            "['one', 'of', 'the']\n",
            "['of', 'the', 'greatest']\n",
            "['the', 'greatest', 'field']\n",
            "['greatest', 'field', 'hockey']\n",
            "['field', 'hockey', 'player']\n",
            "['hockey', 'player', 'in']\n",
            "['player', 'in', 'history.']\n",
            "['in', 'history.', '[4][5][6]']\n",
            "['history.', '[4][5][6]', 'He']\n",
            "['[4][5][6]', 'He', 'was']\n",
            "['He', 'was', 'known']\n",
            "['was', 'known', 'for']\n",
            "['known', 'for', 'his']\n",
            "['for', 'his', 'extraordinary']\n",
            "['his', 'extraordinary', 'ball']\n",
            "['extraordinary', 'ball', 'control']\n",
            "['ball', 'control', 'and']\n",
            "['control', 'and', 'goal-scoring']\n",
            "['and', 'goal-scoring', 'feats,']\n",
            "['goal-scoring', 'feats,', 'in']\n",
            "['feats,', 'in', 'addition']\n",
            "['in', 'addition', 'to']\n",
            "['addition', 'to', 'earning']\n",
            "['to', 'earning', 'three']\n",
            "['earning', 'three', 'Olympic']\n",
            "['three', 'Olympic', 'gold']\n",
            "['Olympic', 'gold', 'medals,']\n",
            "['gold', 'medals,', 'in']\n",
            "['medals,', 'in', '1928,']\n",
            "['in', '1928,', '1932']\n",
            "['1928,', '1932', 'and']\n",
            "['1932', 'and', '1936,']\n",
            "['and', '1936,', 'during']\n",
            "['1936,', 'during', 'an']\n",
            "['during', 'an', 'era']\n",
            "['an', 'era', 'where']\n",
            "['era', 'where', 'India']\n",
            "['where', 'India', 'dominated']\n",
            "['India', 'dominated', 'field']\n",
            "['dominated', 'field', 'hockey.']\n",
            "['field', 'hockey.', 'His']\n",
            "['hockey.', 'His', 'influence']\n",
            "['His', 'influence', 'extended']\n",
            "['influence', 'extended', 'beyond']\n",
            "['extended', 'beyond', 'these']\n",
            "['beyond', 'these', 'victories,']\n",
            "['these', 'victories,', 'as']\n",
            "['victories,', 'as', 'India']\n",
            "['as', 'India', 'won']\n",
            "['India', 'won', 'the']\n",
            "['won', 'the', 'field']\n",
            "['the', 'field', 'hockey']\n",
            "['field', 'hockey', 'event']\n",
            "['hockey', 'event', 'in']\n",
            "['event', 'in', 'seven']\n",
            "['in', 'seven', 'out']\n",
            "['seven', 'out', 'of']\n",
            "['out', 'of', 'eight']\n",
            "['of', 'eight', 'Olympics']\n",
            "['eight', 'Olympics', 'from']\n",
            "['Olympics', 'from', '1928']\n",
            "['from', '1928', 'to']\n",
            "['1928', 'to', '1964.']\n",
            "['to', '1964.', 'Known']\n",
            "['1964.', 'Known', 'as']\n",
            "['Known', 'as', 'The']\n",
            "['as', 'The', 'Wizard[8][9]']\n",
            "['The', 'Wizard[8][9]', 'or']\n",
            "['Wizard[8][9]', 'or', 'The']\n",
            "['or', 'The', 'Magician[10][11]']\n",
            "['The', 'Magician[10][11]', 'of']\n",
            "['Magician[10][11]', 'of', 'hockey']\n",
            "['of', 'hockey', 'for']\n",
            "['hockey', 'for', 'his']\n",
            "['for', 'his', 'superb']\n",
            "['his', 'superb', 'ball']\n",
            "['superb', 'ball', 'control,']\n",
            "['ball', 'control,', 'Chand']\n",
            "['control,', 'Chand', 'played']\n",
            "['Chand', 'played', 'internationally']\n",
            "['played', 'internationally', 'from']\n",
            "['internationally', 'from', '1926']\n",
            "['from', '1926', 'to']\n",
            "['1926', 'to', '1949']\n",
            "['to', '1949', 'where']\n",
            "['1949', 'where', 'he']\n",
            "['where', 'he', 'scored']\n",
            "['he', 'scored', '570']\n",
            "['scored', '570', 'goals']\n",
            "['570', 'goals', 'in']\n",
            "['goals', 'in', '185']\n",
            "['in', '185', 'matches']\n",
            "['185', 'matches', 'according']\n",
            "['matches', 'according', 'to']\n",
            "['according', 'to', 'his']\n",
            "['to', 'his', 'autobiography,']\n",
            "['his', 'autobiography,', 'Goal[12][13]']\n",
            "['autobiography,', 'Goal[12][13]', 'and']\n",
            "['Goal[12][13]', 'and', 'over']\n",
            "['and', 'over', '1000']\n",
            "['over', '1000', 'goals']\n",
            "['1000', 'goals', 'in']\n",
            "['goals', 'in', 'his']\n",
            "['in', 'his', 'entire']\n",
            "['his', 'entire', 'domestic']\n",
            "['entire', 'domestic', 'and']\n",
            "['domestic', 'and', 'international']\n",
            "['and', 'international', 'career.']\n",
            "['international', 'career.', '[14]']\n",
            "['career.', '[14]', 'BBC']\n",
            "['[14]', 'BBC', 'called']\n",
            "['BBC', 'called', 'him']\n",
            "['called', 'him', 'the']\n",
            "['him', 'the', '\"hockey\\'s']\n",
            "['the', '\"hockey\\'s', 'equivalent']\n",
            "['\"hockey\\'s', 'equivalent', 'of']\n",
            "['equivalent', 'of', 'Muhammad']\n",
            "['of', 'Muhammad', 'Ali\".[14]']\n",
            "['Muhammad', 'Ali\".[14]', 'The']\n",
            "['Ali\".[14]', 'The', 'Government']\n",
            "['The', 'Government', 'of']\n",
            "['Government', 'of', 'India']\n",
            "['of', 'India', 'awarded']\n",
            "['India', 'awarded', 'Chand']\n",
            "['awarded', 'Chand', \"India's\"]\n",
            "['Chand', \"India's\", 'third']\n",
            "[\"India's\", 'third', 'highest']\n",
            "['third', 'highest', 'civilian']\n",
            "['highest', 'civilian', 'honour']\n",
            "['civilian', 'honour', 'of']\n",
            "['honour', 'of', 'Padma']\n",
            "['of', 'Padma', 'Bhushan']\n",
            "['Padma', 'Bhushan', 'in']\n",
            "['Bhushan', 'in', '1956.']\n",
            "['in', '1956.', '[15]']\n",
            "['1956.', '[15]', 'His']\n",
            "['[15]', 'His', 'birthday,']\n",
            "['His', 'birthday,', '29']\n",
            "['birthday,', '29', 'August,']\n",
            "['29', 'August,', 'is']\n",
            "['August,', 'is', 'celebrated']\n",
            "['is', 'celebrated', 'as']\n",
            "['celebrated', 'as', 'National']\n",
            "['as', 'National', 'Sports']\n",
            "['National', 'Sports', 'Day']\n",
            "['Sports', 'Day', 'in']\n",
            "['Day', 'in', 'India']\n",
            "['in', 'India', 'every']\n",
            "['India', 'every', 'year.']\n",
            "['every', 'year.', \"India's\"]\n",
            "['year.', \"India's\", 'highest']\n",
            "[\"India's\", 'highest', 'sporting']\n",
            "['highest', 'sporting', 'honour']\n",
            "['sporting', 'honour', 'Major']\n",
            "['honour', 'Major', 'Dhyan']\n",
            "['Major', 'Dhyan', 'Chand']\n",
            "['Dhyan', 'Chand', 'Khel']\n",
            "['Chand', 'Khel', 'Ratna']\n",
            "['Khel', 'Ratna', 'Award']\n",
            "['Ratna', 'Award', 'is']\n",
            "['Award', 'is', 'named']\n",
            "['is', 'named', 'after']\n",
            "['named', 'after', 'him']\n"
          ]
        }
      ]
    },
    {
      "cell_type": "code",
      "source": [
        "def sentiment_preprocess(x):\n",
        "  x = x.lower()\n",
        "  x = re.sub('^[a-z0-9]','',x)\n",
        "  x = re.sub('\\[\\d+\\]','',x)\n",
        "  x = re.sub('chand','',x)\n",
        "  x = re.sub('dhyan','',x)\n",
        "  x = re.sub('major','',x)\n",
        "  x = tokenizer.tokenize(x)\n",
        "  x = [word for word in x if not word in stopwords.words()]\n",
        "  x = ' '.join(x)\n",
        "  return x"
      ],
      "metadata": {
        "id": "sSPMVMkFWZa1"
      },
      "execution_count": null,
      "outputs": []
    },
    {
      "cell_type": "code",
      "source": [
        "from textblob import TextBlob"
      ],
      "metadata": {
        "id": "NgXXDUorXYCK"
      },
      "execution_count": null,
      "outputs": []
    },
    {
      "cell_type": "code",
      "source": [
        "sentiment_para = sentiment_preprocess(para)\n",
        "sentiment_para"
      ],
      "metadata": {
        "colab": {
          "base_uri": "https://localhost:8080/",
          "height": 87
        },
        "id": "xJN_Yd-TXdsH",
        "outputId": "df7aaa70-98a1-4cd1-ea6e-a884f9c377cc"
      },
      "execution_count": null,
      "outputs": [
        {
          "output_type": "execute_result",
          "data": {
            "text/plain": [
              "'(29 august 1905 – 3 december 1979) indian field hockey player widely regarded greatest field hockey player history. known extraordinary ball control goal-scoring feats, addition earning three olympic gold medals, 1928, 1932 1936, india dominated field hockey. influence extended beyond victories, india field hockey event seven eight olympics 1928 1964. known wizard magician hockey superb ball control, played internationally 1926 1949 scored 570 goals 185 matches according autobiography, goal 1000 goals entire domestic international career. bbc called \"hockey\\'s equivalent muhammad ali\". government india awarded india\\'s third highest civilian honour padma bhushan 1956. birthday, 29 august, celebrated national sports day india every year. india\\'s highest sporting honour khel ratna award named'"
            ],
            "application/vnd.google.colaboratory.intrinsic+json": {
              "type": "string"
            }
          },
          "metadata": {},
          "execution_count": 42
        }
      ]
    },
    {
      "cell_type": "code",
      "source": [
        "blob = TextBlob(sentiment_para)"
      ],
      "metadata": {
        "id": "nM7nmkszXsfV"
      },
      "execution_count": null,
      "outputs": []
    },
    {
      "cell_type": "code",
      "source": [
        "blob.sentiment"
      ],
      "metadata": {
        "colab": {
          "base_uri": "https://localhost:8080/"
        },
        "id": "JOjYsrJUYBuX",
        "outputId": "f23bb4be-175c-4c33-c546-6fb736705f1d"
      },
      "execution_count": null,
      "outputs": [
        {
          "output_type": "execute_result",
          "data": {
            "text/plain": [
              "Sentiment(polarity=0.25833333333333336, subjectivity=0.4875)"
            ]
          },
          "metadata": {},
          "execution_count": 44
        }
      ]
    }
  ]
}